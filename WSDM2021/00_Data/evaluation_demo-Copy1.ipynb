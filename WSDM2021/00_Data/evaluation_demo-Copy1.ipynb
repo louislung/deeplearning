{
  "nbformat": 4,
  "nbformat_minor": 0,
  "metadata": {
    "kernelspec": {
      "display_name": "Python 3",
      "language": "python",
      "name": "python3"
    },
    "language_info": {
      "codemirror_mode": {
        "name": "ipython",
        "version": 3
      },
      "file_extension": ".py",
      "mimetype": "text/x-python",
      "name": "python",
      "nbconvert_exporter": "python",
      "pygments_lexer": "ipython3",
      "version": "3.6.6"
    },
    "colab": {
      "name": "evaluation_demo-Copy1.ipynb",
      "provenance": [],
      "include_colab_link": true
    }
  },
  "cells": [
    {
      "cell_type": "markdown",
      "metadata": {
        "id": "view-in-github",
        "colab_type": "text"
      },
      "source": [
        "<a href=\"https://colab.research.google.com/github/louislung/deeplearning/blob/main/WSDM2021/00_Data/evaluation_demo-Copy1.ipynb\" target=\"_parent\"><img src=\"https://colab.research.google.com/assets/colab-badge.svg\" alt=\"Open In Colab\"/></a>"
      ]
    },
    {
      "cell_type": "markdown",
      "metadata": {
        "id": "10piWs2BGG_b"
      },
      "source": [
        "# Booking.com Multi-Destinations Trips Dataset demo"
      ]
    },
    {
      "cell_type": "code",
      "metadata": {
        "id": "YW6xllChGG_h"
      },
      "source": [
        "import pandas as pd"
      ],
      "execution_count": 1,
      "outputs": []
    },
    {
      "cell_type": "markdown",
      "metadata": {
        "id": "50LR3V5BGG_h"
      },
      "source": [
        "## Load train set"
      ]
    },
    {
      "cell_type": "code",
      "metadata": {
        "id": "SiRVFOo1GG_h",
        "outputId": "22a244e1-314e-4208-d96e-e68204480b06",
        "colab": {
          "base_uri": "https://localhost:8080/",
          "height": 221
        }
      },
      "source": [
        "try:\n",
        "    train_set = pd.read_csv('train_set.csv').sort_values(by=['utrip_id','checkin'])\n",
        "except:\n",
        "    train_set = pd.read_csv('https://raw.githubusercontent.com/louislung/deeplearning/main/WSDM2021/00_Data/train_set.csv').sort_values(by=['utrip_id','checkin'])\n",
        "\n",
        "print(train_set.shape)\n",
        "train_set.head()"
      ],
      "execution_count": 10,
      "outputs": [
        {
          "output_type": "stream",
          "text": [
            "(1166835, 9)\n"
          ],
          "name": "stdout"
        },
        {
          "output_type": "execute_result",
          "data": {
            "text/html": [
              "<div>\n",
              "<style scoped>\n",
              "    .dataframe tbody tr th:only-of-type {\n",
              "        vertical-align: middle;\n",
              "    }\n",
              "\n",
              "    .dataframe tbody tr th {\n",
              "        vertical-align: top;\n",
              "    }\n",
              "\n",
              "    .dataframe thead th {\n",
              "        text-align: right;\n",
              "    }\n",
              "</style>\n",
              "<table border=\"1\" class=\"dataframe\">\n",
              "  <thead>\n",
              "    <tr style=\"text-align: right;\">\n",
              "      <th></th>\n",
              "      <th>user_id</th>\n",
              "      <th>checkin</th>\n",
              "      <th>checkout</th>\n",
              "      <th>city_id</th>\n",
              "      <th>device_class</th>\n",
              "      <th>affiliate_id</th>\n",
              "      <th>booker_country</th>\n",
              "      <th>hotel_country</th>\n",
              "      <th>utrip_id</th>\n",
              "    </tr>\n",
              "  </thead>\n",
              "  <tbody>\n",
              "    <tr>\n",
              "      <th>0</th>\n",
              "      <td>1000027</td>\n",
              "      <td>2016-08-13</td>\n",
              "      <td>2016-08-14</td>\n",
              "      <td>8183</td>\n",
              "      <td>desktop</td>\n",
              "      <td>7168</td>\n",
              "      <td>Elbonia</td>\n",
              "      <td>Gondal</td>\n",
              "      <td>1000027_1</td>\n",
              "    </tr>\n",
              "    <tr>\n",
              "      <th>1</th>\n",
              "      <td>1000027</td>\n",
              "      <td>2016-08-14</td>\n",
              "      <td>2016-08-16</td>\n",
              "      <td>15626</td>\n",
              "      <td>desktop</td>\n",
              "      <td>7168</td>\n",
              "      <td>Elbonia</td>\n",
              "      <td>Gondal</td>\n",
              "      <td>1000027_1</td>\n",
              "    </tr>\n",
              "    <tr>\n",
              "      <th>2</th>\n",
              "      <td>1000027</td>\n",
              "      <td>2016-08-16</td>\n",
              "      <td>2016-08-18</td>\n",
              "      <td>60902</td>\n",
              "      <td>desktop</td>\n",
              "      <td>7168</td>\n",
              "      <td>Elbonia</td>\n",
              "      <td>Gondal</td>\n",
              "      <td>1000027_1</td>\n",
              "    </tr>\n",
              "    <tr>\n",
              "      <th>3</th>\n",
              "      <td>1000027</td>\n",
              "      <td>2016-08-18</td>\n",
              "      <td>2016-08-21</td>\n",
              "      <td>30628</td>\n",
              "      <td>desktop</td>\n",
              "      <td>253</td>\n",
              "      <td>Elbonia</td>\n",
              "      <td>Gondal</td>\n",
              "      <td>1000027_1</td>\n",
              "    </tr>\n",
              "    <tr>\n",
              "      <th>4</th>\n",
              "      <td>1000033</td>\n",
              "      <td>2016-04-09</td>\n",
              "      <td>2016-04-11</td>\n",
              "      <td>38677</td>\n",
              "      <td>mobile</td>\n",
              "      <td>359</td>\n",
              "      <td>Gondal</td>\n",
              "      <td>Cobra Island</td>\n",
              "      <td>1000033_1</td>\n",
              "    </tr>\n",
              "  </tbody>\n",
              "</table>\n",
              "</div>"
            ],
            "text/plain": [
              "   user_id     checkin    checkout  ...  booker_country hotel_country   utrip_id\n",
              "0  1000027  2016-08-13  2016-08-14  ...         Elbonia        Gondal  1000027_1\n",
              "1  1000027  2016-08-14  2016-08-16  ...         Elbonia        Gondal  1000027_1\n",
              "2  1000027  2016-08-16  2016-08-18  ...         Elbonia        Gondal  1000027_1\n",
              "3  1000027  2016-08-18  2016-08-21  ...         Elbonia        Gondal  1000027_1\n",
              "4  1000033  2016-04-09  2016-04-11  ...          Gondal  Cobra Island  1000033_1\n",
              "\n",
              "[5 rows x 9 columns]"
            ]
          },
          "metadata": {
            "tags": []
          },
          "execution_count": 10
        }
      ]
    },
    {
      "cell_type": "code",
      "metadata": {
        "id": "tyklu1YQGG_i"
      },
      "source": [
        "#train_set.utrip_id.value_counts()\n",
        "#train_set.loc[train_set.utrip_id=='3635431_3']"
      ],
      "execution_count": null,
      "outputs": []
    },
    {
      "cell_type": "markdown",
      "metadata": {
        "id": "lz_tdtLYGG_j"
      },
      "source": [
        "### Load testset"
      ]
    },
    {
      "cell_type": "code",
      "metadata": {
        "id": "DO25OhyLGG_j",
        "outputId": "a1d62d0b-cfd1-4181-dfa8-fa197561b41b",
        "colab": {
          "base_uri": "https://localhost:8080/",
          "height": 376
        }
      },
      "source": [
        "try:\n",
        "    test_set = pd.read_csv('test_set.csv').sort_values(by=['utrip_id','checkin'])\n",
        "except:\n",
        "    test_set = pd.read_csv('https://raw.githubusercontent.com/louislung/deeplearning/main/WSDM2021/00_Data/test_set.csv').sort_values(by=['utrip_id','checkin'])\n",
        "print(test_set.shape)\n",
        "\n",
        "test_set.head(10)"
      ],
      "execution_count": 11,
      "outputs": [
        {
          "output_type": "stream",
          "text": [
            "(378667, 9)\n"
          ],
          "name": "stdout"
        },
        {
          "output_type": "execute_result",
          "data": {
            "text/html": [
              "<div>\n",
              "<style scoped>\n",
              "    .dataframe tbody tr th:only-of-type {\n",
              "        vertical-align: middle;\n",
              "    }\n",
              "\n",
              "    .dataframe tbody tr th {\n",
              "        vertical-align: top;\n",
              "    }\n",
              "\n",
              "    .dataframe thead th {\n",
              "        text-align: right;\n",
              "    }\n",
              "</style>\n",
              "<table border=\"1\" class=\"dataframe\">\n",
              "  <thead>\n",
              "    <tr style=\"text-align: right;\">\n",
              "      <th></th>\n",
              "      <th>user_id</th>\n",
              "      <th>checkin</th>\n",
              "      <th>checkout</th>\n",
              "      <th>device_class</th>\n",
              "      <th>affiliate_id</th>\n",
              "      <th>booker_country</th>\n",
              "      <th>utrip_id</th>\n",
              "      <th>city_id</th>\n",
              "      <th>hotel_country</th>\n",
              "    </tr>\n",
              "  </thead>\n",
              "  <tbody>\n",
              "    <tr>\n",
              "      <th>0</th>\n",
              "      <td>1000066</td>\n",
              "      <td>2016-07-21</td>\n",
              "      <td>2016-07-23</td>\n",
              "      <td>desktop</td>\n",
              "      <td>9924</td>\n",
              "      <td>Gondal</td>\n",
              "      <td>1000066_2</td>\n",
              "      <td>56430</td>\n",
              "      <td>Urkesh</td>\n",
              "    </tr>\n",
              "    <tr>\n",
              "      <th>1</th>\n",
              "      <td>1000066</td>\n",
              "      <td>2016-07-23</td>\n",
              "      <td>2016-07-25</td>\n",
              "      <td>desktop</td>\n",
              "      <td>9924</td>\n",
              "      <td>Gondal</td>\n",
              "      <td>1000066_2</td>\n",
              "      <td>41971</td>\n",
              "      <td>Urkesh</td>\n",
              "    </tr>\n",
              "    <tr>\n",
              "      <th>2</th>\n",
              "      <td>1000066</td>\n",
              "      <td>2016-07-25</td>\n",
              "      <td>2016-07-28</td>\n",
              "      <td>desktop</td>\n",
              "      <td>9924</td>\n",
              "      <td>Gondal</td>\n",
              "      <td>1000066_2</td>\n",
              "      <td>5797</td>\n",
              "      <td>Urkesh</td>\n",
              "    </tr>\n",
              "    <tr>\n",
              "      <th>3</th>\n",
              "      <td>1000066</td>\n",
              "      <td>2016-07-28</td>\n",
              "      <td>2016-07-31</td>\n",
              "      <td>mobile</td>\n",
              "      <td>2436</td>\n",
              "      <td>Gondal</td>\n",
              "      <td>1000066_2</td>\n",
              "      <td>0</td>\n",
              "      <td>NaN</td>\n",
              "    </tr>\n",
              "    <tr>\n",
              "      <th>4</th>\n",
              "      <td>1000270</td>\n",
              "      <td>2016-02-08</td>\n",
              "      <td>2016-02-09</td>\n",
              "      <td>mobile</td>\n",
              "      <td>9452</td>\n",
              "      <td>The Devilfire Empire</td>\n",
              "      <td>1000270_1</td>\n",
              "      <td>50075</td>\n",
              "      <td>The Devilfire Empire</td>\n",
              "    </tr>\n",
              "    <tr>\n",
              "      <th>5</th>\n",
              "      <td>1000270</td>\n",
              "      <td>2016-02-09</td>\n",
              "      <td>2016-02-10</td>\n",
              "      <td>desktop</td>\n",
              "      <td>116</td>\n",
              "      <td>The Devilfire Empire</td>\n",
              "      <td>1000270_1</td>\n",
              "      <td>29207</td>\n",
              "      <td>Cobra Island</td>\n",
              "    </tr>\n",
              "    <tr>\n",
              "      <th>6</th>\n",
              "      <td>1000270</td>\n",
              "      <td>2016-02-10</td>\n",
              "      <td>2016-02-19</td>\n",
              "      <td>desktop</td>\n",
              "      <td>9924</td>\n",
              "      <td>The Devilfire Empire</td>\n",
              "      <td>1000270_1</td>\n",
              "      <td>44768</td>\n",
              "      <td>Cobra Island</td>\n",
              "    </tr>\n",
              "    <tr>\n",
              "      <th>7</th>\n",
              "      <td>1000270</td>\n",
              "      <td>2016-02-19</td>\n",
              "      <td>2016-02-20</td>\n",
              "      <td>desktop</td>\n",
              "      <td>9924</td>\n",
              "      <td>The Devilfire Empire</td>\n",
              "      <td>1000270_1</td>\n",
              "      <td>0</td>\n",
              "      <td>NaN</td>\n",
              "    </tr>\n",
              "    <tr>\n",
              "      <th>8</th>\n",
              "      <td>1000441</td>\n",
              "      <td>2016-05-29</td>\n",
              "      <td>2016-06-01</td>\n",
              "      <td>desktop</td>\n",
              "      <td>9924</td>\n",
              "      <td>Bartovia</td>\n",
              "      <td>1000441_1</td>\n",
              "      <td>47759</td>\n",
              "      <td>Osterlich</td>\n",
              "    </tr>\n",
              "    <tr>\n",
              "      <th>9</th>\n",
              "      <td>1000441</td>\n",
              "      <td>2016-06-01</td>\n",
              "      <td>2016-06-02</td>\n",
              "      <td>desktop</td>\n",
              "      <td>9924</td>\n",
              "      <td>Bartovia</td>\n",
              "      <td>1000441_1</td>\n",
              "      <td>46411</td>\n",
              "      <td>Osterlich</td>\n",
              "    </tr>\n",
              "  </tbody>\n",
              "</table>\n",
              "</div>"
            ],
            "text/plain": [
              "   user_id     checkin    checkout  ...   utrip_id  city_id         hotel_country\n",
              "0  1000066  2016-07-21  2016-07-23  ...  1000066_2    56430                Urkesh\n",
              "1  1000066  2016-07-23  2016-07-25  ...  1000066_2    41971                Urkesh\n",
              "2  1000066  2016-07-25  2016-07-28  ...  1000066_2     5797                Urkesh\n",
              "3  1000066  2016-07-28  2016-07-31  ...  1000066_2        0                   NaN\n",
              "4  1000270  2016-02-08  2016-02-09  ...  1000270_1    50075  The Devilfire Empire\n",
              "5  1000270  2016-02-09  2016-02-10  ...  1000270_1    29207          Cobra Island\n",
              "6  1000270  2016-02-10  2016-02-19  ...  1000270_1    44768          Cobra Island\n",
              "7  1000270  2016-02-19  2016-02-20  ...  1000270_1        0                   NaN\n",
              "8  1000441  2016-05-29  2016-06-01  ...  1000441_1    47759             Osterlich\n",
              "9  1000441  2016-06-01  2016-06-02  ...  1000441_1    46411             Osterlich\n",
              "\n",
              "[10 rows x 9 columns]"
            ]
          },
          "metadata": {
            "tags": []
          },
          "execution_count": 11
        }
      ]
    },
    {
      "cell_type": "code",
      "metadata": {
        "id": "mvQj5FsvGG_j"
      },
      "source": [
        "#test_set.utrip_id.value_counts().value_counts()\n",
        "#train_set.loc[train_set.utrip_id=='3635431_3']"
      ],
      "execution_count": 12,
      "outputs": []
    },
    {
      "cell_type": "markdown",
      "metadata": {
        "id": "WqBd7QhSGG_j"
      },
      "source": [
        "### Generate Dummy Predictions - use top 4 cities in the trainset as benchmark recommendation"
      ]
    },
    {
      "cell_type": "code",
      "metadata": {
        "id": "HaVdwErSGG_k"
      },
      "source": [
        "topcities = train_set.city_id.value_counts().index[:4]\n",
        "\n",
        "test_trips = (test_set[['utrip_id']].drop_duplicates()).reset_index().drop('index', axis=1)\n",
        "cities_prediction = pd.DataFrame([topcities]*test_trips.shape[0]\n",
        "                                 , columns= ['city_id_1','city_id_2','city_id_3','city_id_4'])"
      ],
      "execution_count": 13,
      "outputs": []
    },
    {
      "cell_type": "markdown",
      "metadata": {
        "id": "jlCrPfRHGG_k"
      },
      "source": [
        "### Create Submission file according to the format"
      ]
    },
    {
      "cell_type": "code",
      "metadata": {
        "id": "RipQo_jzGG_k",
        "outputId": "fcdc79d9-576a-4f87-df9a-420fa2e7450e",
        "colab": {
          "base_uri": "https://localhost:8080/",
          "height": 221
        }
      },
      "source": [
        "submission = pd.concat([test_trips,cities_prediction], axis =1)\n",
        "print(submission.shape)\n",
        "submission.head()"
      ],
      "execution_count": 44,
      "outputs": [
        {
          "output_type": "stream",
          "text": [
            "(70662, 5)\n"
          ],
          "name": "stdout"
        },
        {
          "output_type": "execute_result",
          "data": {
            "text/html": [
              "<div>\n",
              "<style scoped>\n",
              "    .dataframe tbody tr th:only-of-type {\n",
              "        vertical-align: middle;\n",
              "    }\n",
              "\n",
              "    .dataframe tbody tr th {\n",
              "        vertical-align: top;\n",
              "    }\n",
              "\n",
              "    .dataframe thead th {\n",
              "        text-align: right;\n",
              "    }\n",
              "</style>\n",
              "<table border=\"1\" class=\"dataframe\">\n",
              "  <thead>\n",
              "    <tr style=\"text-align: right;\">\n",
              "      <th></th>\n",
              "      <th>utrip_id</th>\n",
              "      <th>city_id_1</th>\n",
              "      <th>city_id_2</th>\n",
              "      <th>city_id_3</th>\n",
              "      <th>city_id_4</th>\n",
              "    </tr>\n",
              "  </thead>\n",
              "  <tbody>\n",
              "    <tr>\n",
              "      <th>0</th>\n",
              "      <td>1000066_2</td>\n",
              "      <td>47499</td>\n",
              "      <td>23921</td>\n",
              "      <td>36063</td>\n",
              "      <td>17013</td>\n",
              "    </tr>\n",
              "    <tr>\n",
              "      <th>1</th>\n",
              "      <td>1000270_1</td>\n",
              "      <td>47499</td>\n",
              "      <td>23921</td>\n",
              "      <td>36063</td>\n",
              "      <td>17013</td>\n",
              "    </tr>\n",
              "    <tr>\n",
              "      <th>2</th>\n",
              "      <td>1000441_1</td>\n",
              "      <td>47499</td>\n",
              "      <td>23921</td>\n",
              "      <td>36063</td>\n",
              "      <td>17013</td>\n",
              "    </tr>\n",
              "    <tr>\n",
              "      <th>3</th>\n",
              "      <td>100048_1</td>\n",
              "      <td>47499</td>\n",
              "      <td>23921</td>\n",
              "      <td>36063</td>\n",
              "      <td>17013</td>\n",
              "    </tr>\n",
              "    <tr>\n",
              "      <th>4</th>\n",
              "      <td>1000543_1</td>\n",
              "      <td>47499</td>\n",
              "      <td>23921</td>\n",
              "      <td>36063</td>\n",
              "      <td>17013</td>\n",
              "    </tr>\n",
              "  </tbody>\n",
              "</table>\n",
              "</div>"
            ],
            "text/plain": [
              "    utrip_id  city_id_1  city_id_2  city_id_3  city_id_4\n",
              "0  1000066_2      47499      23921      36063      17013\n",
              "1  1000270_1      47499      23921      36063      17013\n",
              "2  1000441_1      47499      23921      36063      17013\n",
              "3   100048_1      47499      23921      36063      17013\n",
              "4  1000543_1      47499      23921      36063      17013"
            ]
          },
          "metadata": {
            "tags": []
          },
          "execution_count": 44
        }
      ]
    },
    {
      "cell_type": "code",
      "metadata": {
        "id": "cygZ0AuPGG_k"
      },
      "source": [
        "submission.to_csv('submission.csv',index=False)"
      ],
      "execution_count": 45,
      "outputs": []
    },
    {
      "cell_type": "code",
      "metadata": {
        "id": "JFto4YCoNj0H",
        "outputId": "2e90382e-0a0c-4708-e7f9-1cab86236daf",
        "colab": {
          "base_uri": "https://localhost:8080/",
          "height": 235
        }
      },
      "source": [
        "submission = pd.read_csv('submission.csv',index_col=[0])\n",
        "submission.head()"
      ],
      "execution_count": 46,
      "outputs": [
        {
          "output_type": "execute_result",
          "data": {
            "text/html": [
              "<div>\n",
              "<style scoped>\n",
              "    .dataframe tbody tr th:only-of-type {\n",
              "        vertical-align: middle;\n",
              "    }\n",
              "\n",
              "    .dataframe tbody tr th {\n",
              "        vertical-align: top;\n",
              "    }\n",
              "\n",
              "    .dataframe thead th {\n",
              "        text-align: right;\n",
              "    }\n",
              "</style>\n",
              "<table border=\"1\" class=\"dataframe\">\n",
              "  <thead>\n",
              "    <tr style=\"text-align: right;\">\n",
              "      <th></th>\n",
              "      <th>city_id_1</th>\n",
              "      <th>city_id_2</th>\n",
              "      <th>city_id_3</th>\n",
              "      <th>city_id_4</th>\n",
              "    </tr>\n",
              "    <tr>\n",
              "      <th>utrip_id</th>\n",
              "      <th></th>\n",
              "      <th></th>\n",
              "      <th></th>\n",
              "      <th></th>\n",
              "    </tr>\n",
              "  </thead>\n",
              "  <tbody>\n",
              "    <tr>\n",
              "      <th>1000066_2</th>\n",
              "      <td>47499</td>\n",
              "      <td>23921</td>\n",
              "      <td>36063</td>\n",
              "      <td>17013</td>\n",
              "    </tr>\n",
              "    <tr>\n",
              "      <th>1000270_1</th>\n",
              "      <td>47499</td>\n",
              "      <td>23921</td>\n",
              "      <td>36063</td>\n",
              "      <td>17013</td>\n",
              "    </tr>\n",
              "    <tr>\n",
              "      <th>1000441_1</th>\n",
              "      <td>47499</td>\n",
              "      <td>23921</td>\n",
              "      <td>36063</td>\n",
              "      <td>17013</td>\n",
              "    </tr>\n",
              "    <tr>\n",
              "      <th>100048_1</th>\n",
              "      <td>47499</td>\n",
              "      <td>23921</td>\n",
              "      <td>36063</td>\n",
              "      <td>17013</td>\n",
              "    </tr>\n",
              "    <tr>\n",
              "      <th>1000543_1</th>\n",
              "      <td>47499</td>\n",
              "      <td>23921</td>\n",
              "      <td>36063</td>\n",
              "      <td>17013</td>\n",
              "    </tr>\n",
              "  </tbody>\n",
              "</table>\n",
              "</div>"
            ],
            "text/plain": [
              "           city_id_1  city_id_2  city_id_3  city_id_4\n",
              "utrip_id                                             \n",
              "1000066_2      47499      23921      36063      17013\n",
              "1000270_1      47499      23921      36063      17013\n",
              "1000441_1      47499      23921      36063      17013\n",
              "100048_1       47499      23921      36063      17013\n",
              "1000543_1      47499      23921      36063      17013"
            ]
          },
          "metadata": {
            "tags": []
          },
          "execution_count": 46
        }
      ]
    },
    {
      "cell_type": "markdown",
      "metadata": {
        "id": "rp8SrUMwGG_l"
      },
      "source": [
        "## Read submission file and ground truth"
      ]
    },
    {
      "cell_type": "code",
      "metadata": {
        "id": "LBruLWvLGG_l"
      },
      "source": [
        "try:\n",
        "    ground_truth = pd.read_csv('ground_truth.csv',index_col=[0])\n",
        "except:\n",
        "    ground_truth = pd.read_csv('https://raw.githubusercontent.com/louislung/deeplearning/main/WSDM2021/00_Data/ground_truth.csv',index_col=[0])\n",
        "\n",
        "try:\n",
        "    submission = pd.read_csv('submission.csv',index_col=[0])\n",
        "except:\n",
        "    submission = pd.read_csv('https://raw.githubusercontent.com/louislung/deeplearning/main/WSDM2021/00_Data/submission.csv',index_col=[0])\n",
        "\n"
      ],
      "execution_count": 47,
      "outputs": []
    },
    {
      "cell_type": "code",
      "metadata": {
        "id": "wd7GV-YzGG_l",
        "outputId": "957221d1-78da-45db-c71f-a35112a80115",
        "colab": {
          "base_uri": "https://localhost:8080/",
          "height": 252
        }
      },
      "source": [
        "print(ground_truth.shape)\n",
        "ground_truth.head()"
      ],
      "execution_count": 48,
      "outputs": [
        {
          "output_type": "stream",
          "text": [
            "(70662, 2)\n"
          ],
          "name": "stdout"
        },
        {
          "output_type": "execute_result",
          "data": {
            "text/html": [
              "<div>\n",
              "<style scoped>\n",
              "    .dataframe tbody tr th:only-of-type {\n",
              "        vertical-align: middle;\n",
              "    }\n",
              "\n",
              "    .dataframe tbody tr th {\n",
              "        vertical-align: top;\n",
              "    }\n",
              "\n",
              "    .dataframe thead th {\n",
              "        text-align: right;\n",
              "    }\n",
              "</style>\n",
              "<table border=\"1\" class=\"dataframe\">\n",
              "  <thead>\n",
              "    <tr style=\"text-align: right;\">\n",
              "      <th></th>\n",
              "      <th>city_id</th>\n",
              "      <th>hotel_country</th>\n",
              "    </tr>\n",
              "    <tr>\n",
              "      <th>utrip_id</th>\n",
              "      <th></th>\n",
              "      <th></th>\n",
              "    </tr>\n",
              "  </thead>\n",
              "  <tbody>\n",
              "    <tr>\n",
              "      <th>1038944_1</th>\n",
              "      <td>54085</td>\n",
              "      <td>Sokovia</td>\n",
              "    </tr>\n",
              "    <tr>\n",
              "      <th>1068715_1</th>\n",
              "      <td>29319</td>\n",
              "      <td>Cobra Island</td>\n",
              "    </tr>\n",
              "    <tr>\n",
              "      <th>1075528_1</th>\n",
              "      <td>55763</td>\n",
              "      <td>Bozatta</td>\n",
              "    </tr>\n",
              "    <tr>\n",
              "      <th>1110462_4</th>\n",
              "      <td>11930</td>\n",
              "      <td>Alvonia</td>\n",
              "    </tr>\n",
              "    <tr>\n",
              "      <th>1132565_1</th>\n",
              "      <td>58659</td>\n",
              "      <td>Axphain</td>\n",
              "    </tr>\n",
              "  </tbody>\n",
              "</table>\n",
              "</div>"
            ],
            "text/plain": [
              "           city_id hotel_country\n",
              "utrip_id                        \n",
              "1038944_1    54085       Sokovia\n",
              "1068715_1    29319  Cobra Island\n",
              "1075528_1    55763       Bozatta\n",
              "1110462_4    11930       Alvonia\n",
              "1132565_1    58659       Axphain"
            ]
          },
          "metadata": {
            "tags": []
          },
          "execution_count": 48
        }
      ]
    },
    {
      "cell_type": "markdown",
      "metadata": {
        "id": "IlEqh-jRGG_l"
      },
      "source": [
        "## Evaluate - use accuracy at 4 to evaluate the prediction"
      ]
    },
    {
      "cell_type": "code",
      "metadata": {
        "id": "6elqNeZVGG_l"
      },
      "source": [
        "def evaluate_accuracy_at_4(submission,ground_truth):\n",
        "    '''checks if the true city is within the four recommended cities'''\n",
        "    data = submission.join(ground_truth,on='utrip_id')\n",
        "\n",
        "    hits = ((data['city_id']==data['city_id_1'])|(data['city_id']==data['city_id_2'])|\n",
        "        (data['city_id']==data['city_id_3'])|(data['city_id']==data['city_id_4']))*1\n",
        "    return hits.mean()"
      ],
      "execution_count": 49,
      "outputs": []
    },
    {
      "cell_type": "code",
      "metadata": {
        "id": "w7FEl9LiGG_m",
        "outputId": "41779728-9e2f-48ce-abd7-33d979c8c944",
        "colab": {
          "base_uri": "https://localhost:8080/"
        }
      },
      "source": [
        "evaluate_accuracy_at_4(submission,ground_truth)"
      ],
      "execution_count": 50,
      "outputs": [
        {
          "output_type": "execute_result",
          "data": {
            "text/plain": [
              "0.05271574537941185"
            ]
          },
          "metadata": {
            "tags": []
          },
          "execution_count": 50
        }
      ]
    }
  ]
}